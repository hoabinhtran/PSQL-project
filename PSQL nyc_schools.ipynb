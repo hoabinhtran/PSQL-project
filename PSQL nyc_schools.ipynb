{
 "cells": [
  {
   "cell_type": "markdown",
   "id": "6dfaa0eb",
   "metadata": {},
   "source": [
    "The purpose of this project is to analyze the performance of various schools in New York city by analyzing students' SAT score(A test for university's admissions process). This test is important for a variety of stakeholders, including policy and education professionals, researchers, government, and even parents considering which school their children should attend. \n",
    "\n",
    "The dataset contain columns such as school name, borough, building code, average math, reading, writing score and percentage of students completing the SAT. "
   ]
  },
  {
   "cell_type": "code",
   "execution_count": 10,
   "id": "5f29566e",
   "metadata": {},
   "outputs": [],
   "source": [
    "# !pip install psycopg2\n",
    "import psycopg2\n",
    "import pandas\n",
    "import warnings\n",
    "warnings.filterwarnings('ignore')\n",
    "from IPython.core.interactiveshell import InteractiveShell\n",
    "InteractiveShell.ast_node_interactivity = \"all\"\n",
    "\n",
    "# Setting up connection to Postgresql database\n",
    "conn = psycopg2.connect(database = 'nyc_schools', \n",
    "                        user = 'postgres', \n",
    "                        host= 'localhost',\n",
    "                        password = 'Redbuble27',\n",
    "                        port = 5432)"
   ]
  },
  {
   "cell_type": "code",
   "execution_count": 25,
   "id": "b96af852",
   "metadata": {},
   "outputs": [
    {
     "data": {
      "text/plain": [
       "pandas.core.frame.DataFrame"
      ]
     },
     "metadata": {},
     "output_type": "display_data"
    },
    {
     "data": {
      "text/html": [
       "<div>\n",
       "<style scoped>\n",
       "    .dataframe tbody tr th:only-of-type {\n",
       "        vertical-align: middle;\n",
       "    }\n",
       "\n",
       "    .dataframe tbody tr th {\n",
       "        vertical-align: top;\n",
       "    }\n",
       "\n",
       "    .dataframe thead th {\n",
       "        text-align: right;\n",
       "    }\n",
       "</style>\n",
       "<table border=\"1\" class=\"dataframe\">\n",
       "  <thead>\n",
       "    <tr style=\"text-align: right;\">\n",
       "      <th></th>\n",
       "      <th>school_name</th>\n",
       "      <th>borough</th>\n",
       "      <th>building_code</th>\n",
       "      <th>average_math</th>\n",
       "      <th>average_reading</th>\n",
       "      <th>average_writing</th>\n",
       "      <th>percent_tested</th>\n",
       "    </tr>\n",
       "  </thead>\n",
       "  <tbody>\n",
       "    <tr>\n",
       "      <th>0</th>\n",
       "      <td>New Explorations into Science, Technology and ...</td>\n",
       "      <td>Manhattan</td>\n",
       "      <td>M022</td>\n",
       "      <td>657</td>\n",
       "      <td>601</td>\n",
       "      <td>601</td>\n",
       "      <td>NaN</td>\n",
       "    </tr>\n",
       "    <tr>\n",
       "      <th>1</th>\n",
       "      <td>Essex Street Academy</td>\n",
       "      <td>Manhattan</td>\n",
       "      <td>M445</td>\n",
       "      <td>395</td>\n",
       "      <td>411</td>\n",
       "      <td>387</td>\n",
       "      <td>78.9</td>\n",
       "    </tr>\n",
       "    <tr>\n",
       "      <th>2</th>\n",
       "      <td>Lower Manhattan Arts Academy</td>\n",
       "      <td>Manhattan</td>\n",
       "      <td>M445</td>\n",
       "      <td>418</td>\n",
       "      <td>428</td>\n",
       "      <td>415</td>\n",
       "      <td>65.1</td>\n",
       "    </tr>\n",
       "    <tr>\n",
       "      <th>3</th>\n",
       "      <td>High School for Dual Language and Asian Studies</td>\n",
       "      <td>Manhattan</td>\n",
       "      <td>M445</td>\n",
       "      <td>613</td>\n",
       "      <td>453</td>\n",
       "      <td>463</td>\n",
       "      <td>95.9</td>\n",
       "    </tr>\n",
       "    <tr>\n",
       "      <th>4</th>\n",
       "      <td>Henry Street School for International Studies</td>\n",
       "      <td>Manhattan</td>\n",
       "      <td>M056</td>\n",
       "      <td>410</td>\n",
       "      <td>406</td>\n",
       "      <td>381</td>\n",
       "      <td>59.7</td>\n",
       "    </tr>\n",
       "  </tbody>\n",
       "</table>\n",
       "</div>"
      ],
      "text/plain": [
       "                                         school_name    borough building_code  \\\n",
       "0  New Explorations into Science, Technology and ...  Manhattan          M022   \n",
       "1                               Essex Street Academy  Manhattan          M445   \n",
       "2                       Lower Manhattan Arts Academy  Manhattan          M445   \n",
       "3    High School for Dual Language and Asian Studies  Manhattan          M445   \n",
       "4      Henry Street School for International Studies  Manhattan          M056   \n",
       "\n",
       "   average_math  average_reading  average_writing  percent_tested  \n",
       "0           657              601              601             NaN  \n",
       "1           395              411              387            78.9  \n",
       "2           418              428              415            65.1  \n",
       "3           613              453              463            95.9  \n",
       "4           410              406              381            59.7  "
      ]
     },
     "metadata": {},
     "output_type": "display_data"
    }
   ],
   "source": [
    "# Select all columns from the database\n",
    "# Display only the first ten rows\n",
    "cur = conn.cursor()\n",
    "querry = ('SELECT * FROM schools LIMIT 10;')\n",
    "conn.commit()\n",
    "\n",
    "d = pandas.read_sql_query(querry,conn)\n",
    "display(type(d))\n",
    "display(pandas.DataFrame.head(d))"
   ]
  },
  {
   "cell_type": "markdown",
   "id": "bdbe2b94",
   "metadata": {},
   "source": [
    "##  Missing values\n",
    "It looks like the first school in the database had no data in the percent_tested column!\n",
    "\n",
    "The reason behind it may indicating schools that did not report the percentage of students tested.\n",
    "\n",
    "To understand whether this missing data problem is widespread in New York, I also calculate the total number of schools in the database."
   ]
  },
  {
   "cell_type": "code",
   "execution_count": 30,
   "id": "2550cbaa",
   "metadata": {},
   "outputs": [
    {
     "data": {
      "text/plain": [
       "pandas.core.frame.DataFrame"
      ]
     },
     "metadata": {},
     "output_type": "display_data"
    },
    {
     "data": {
      "text/html": [
       "<div>\n",
       "<style scoped>\n",
       "    .dataframe tbody tr th:only-of-type {\n",
       "        vertical-align: middle;\n",
       "    }\n",
       "\n",
       "    .dataframe tbody tr th {\n",
       "        vertical-align: top;\n",
       "    }\n",
       "\n",
       "    .dataframe thead th {\n",
       "        text-align: right;\n",
       "    }\n",
       "</style>\n",
       "<table border=\"1\" class=\"dataframe\">\n",
       "  <thead>\n",
       "    <tr style=\"text-align: right;\">\n",
       "      <th></th>\n",
       "      <th>num_tested_missing</th>\n",
       "      <th>num_schools</th>\n",
       "    </tr>\n",
       "  </thead>\n",
       "  <tbody>\n",
       "    <tr>\n",
       "      <th>0</th>\n",
       "      <td>20</td>\n",
       "      <td>375</td>\n",
       "    </tr>\n",
       "  </tbody>\n",
       "</table>\n",
       "</div>"
      ],
      "text/plain": [
       "   num_tested_missing  num_schools\n",
       "0                  20          375"
      ]
     },
     "metadata": {},
     "output_type": "display_data"
    }
   ],
   "source": [
    "# Count rows with percent_tested missing and total number of schools\n",
    "querry = (''' \n",
    "SELECT \n",
    "    COUNT(*) - COUNT(percent_tested) AS num_tested_missing,\n",
    "    COUNT(*) AS num_schools\n",
    "FROM schools;\n",
    "''')\n",
    "conn.commit()\n",
    "\n",
    "d = pandas.read_sql_query(querry,conn)\n",
    "display(type(d))\n",
    "display(pandas.DataFrame.head(d))"
   ]
  },
  {
   "cell_type": "markdown",
   "id": "8ed9351f",
   "metadata": {},
   "source": [
    "## Schools by building code\n",
    "There are 20 schools with missing data for percent_tested, which only makes up 5% of all rows in the database.\n",
    "\n",
    "The first ten rows of the database, several had the same value in the building_code column, suggesting there are multiple schools based in the same location. Let's find out how many unique school locations exist.\n",
    "\n",
    "Out of 375 schools, only 233 (62%) have a unique building_code!"
   ]
  },
  {
   "cell_type": "code",
   "execution_count": 31,
   "id": "c1a93bb0",
   "metadata": {},
   "outputs": [
    {
     "data": {
      "text/plain": [
       "pandas.core.frame.DataFrame"
      ]
     },
     "metadata": {},
     "output_type": "display_data"
    },
    {
     "data": {
      "text/html": [
       "<div>\n",
       "<style scoped>\n",
       "    .dataframe tbody tr th:only-of-type {\n",
       "        vertical-align: middle;\n",
       "    }\n",
       "\n",
       "    .dataframe tbody tr th {\n",
       "        vertical-align: top;\n",
       "    }\n",
       "\n",
       "    .dataframe thead th {\n",
       "        text-align: right;\n",
       "    }\n",
       "</style>\n",
       "<table border=\"1\" class=\"dataframe\">\n",
       "  <thead>\n",
       "    <tr style=\"text-align: right;\">\n",
       "      <th></th>\n",
       "      <th>num_school_buildings</th>\n",
       "    </tr>\n",
       "  </thead>\n",
       "  <tbody>\n",
       "    <tr>\n",
       "      <th>0</th>\n",
       "      <td>233</td>\n",
       "    </tr>\n",
       "  </tbody>\n",
       "</table>\n",
       "</div>"
      ],
      "text/plain": [
       "   num_school_buildings\n",
       "0                   233"
      ]
     },
     "metadata": {},
     "output_type": "display_data"
    }
   ],
   "source": [
    "querry = (''' \n",
    "SELECT\n",
    "    COUNT(DISTINCT building_code) AS num_school_buildings\n",
    "FROM schools;\n",
    "''')\n",
    "conn.commit()\n",
    "\n",
    "d = pandas.read_sql_query(querry,conn)\n",
    "display(type(d))\n",
    "display(pandas.DataFrame.head(d))"
   ]
  },
  {
   "cell_type": "markdown",
   "id": "d6ff3229",
   "metadata": {},
   "source": [
    "## Best schools for math\n",
    "\n",
    "Rank school by their performance based on their students' average math score\n",
    "\n",
    "Schools with an average math score of at least 80% (out of 800 schools)."
   ]
  },
  {
   "cell_type": "code",
   "execution_count": 32,
   "id": "afef97d3",
   "metadata": {},
   "outputs": [
    {
     "data": {
      "text/plain": [
       "pandas.core.frame.DataFrame"
      ]
     },
     "metadata": {},
     "output_type": "display_data"
    },
    {
     "data": {
      "text/html": [
       "<div>\n",
       "<style scoped>\n",
       "    .dataframe tbody tr th:only-of-type {\n",
       "        vertical-align: middle;\n",
       "    }\n",
       "\n",
       "    .dataframe tbody tr th {\n",
       "        vertical-align: top;\n",
       "    }\n",
       "\n",
       "    .dataframe thead th {\n",
       "        text-align: right;\n",
       "    }\n",
       "</style>\n",
       "<table border=\"1\" class=\"dataframe\">\n",
       "  <thead>\n",
       "    <tr style=\"text-align: right;\">\n",
       "      <th></th>\n",
       "      <th>school_name</th>\n",
       "      <th>average_math</th>\n",
       "    </tr>\n",
       "  </thead>\n",
       "  <tbody>\n",
       "    <tr>\n",
       "      <th>0</th>\n",
       "      <td>Stuyvesant High School</td>\n",
       "      <td>754</td>\n",
       "    </tr>\n",
       "    <tr>\n",
       "      <th>1</th>\n",
       "      <td>Bronx High School of Science</td>\n",
       "      <td>714</td>\n",
       "    </tr>\n",
       "    <tr>\n",
       "      <th>2</th>\n",
       "      <td>Staten Island Technical High School</td>\n",
       "      <td>711</td>\n",
       "    </tr>\n",
       "    <tr>\n",
       "      <th>3</th>\n",
       "      <td>Queens High School for the Sciences at York Co...</td>\n",
       "      <td>701</td>\n",
       "    </tr>\n",
       "    <tr>\n",
       "      <th>4</th>\n",
       "      <td>High School for Mathematics, Science, and Engi...</td>\n",
       "      <td>683</td>\n",
       "    </tr>\n",
       "  </tbody>\n",
       "</table>\n",
       "</div>"
      ],
      "text/plain": [
       "                                         school_name  average_math\n",
       "0                             Stuyvesant High School           754\n",
       "1                       Bronx High School of Science           714\n",
       "2                Staten Island Technical High School           711\n",
       "3  Queens High School for the Sciences at York Co...           701\n",
       "4  High School for Mathematics, Science, and Engi...           683"
      ]
     },
     "metadata": {},
     "output_type": "display_data"
    }
   ],
   "source": [
    "querry = (''' \n",
    "SELECT \n",
    "    school_name,\n",
    "    average_math\n",
    "FROM schools\n",
    "WHERE average_math >= 640\n",
    "ORDER BY average_math DESC;\n",
    "''')\n",
    "conn.commit()\n",
    "\n",
    "d = pandas.read_sql_query(querry,conn)\n",
    "display(type(d))\n",
    "display(pandas.DataFrame.head(d))"
   ]
  },
  {
   "cell_type": "markdown",
   "id": "5f0f5b24",
   "metadata": {},
   "source": [
    "## Lowest reading score\n",
    "Only ten public schools in New York City with an average math score of at least 640!"
   ]
  },
  {
   "cell_type": "code",
   "execution_count": 33,
   "id": "52fb04ba",
   "metadata": {},
   "outputs": [
    {
     "data": {
      "text/plain": [
       "pandas.core.frame.DataFrame"
      ]
     },
     "metadata": {},
     "output_type": "display_data"
    },
    {
     "data": {
      "text/html": [
       "<div>\n",
       "<style scoped>\n",
       "    .dataframe tbody tr th:only-of-type {\n",
       "        vertical-align: middle;\n",
       "    }\n",
       "\n",
       "    .dataframe tbody tr th {\n",
       "        vertical-align: top;\n",
       "    }\n",
       "\n",
       "    .dataframe thead th {\n",
       "        text-align: right;\n",
       "    }\n",
       "</style>\n",
       "<table border=\"1\" class=\"dataframe\">\n",
       "  <thead>\n",
       "    <tr style=\"text-align: right;\">\n",
       "      <th></th>\n",
       "      <th>lowest_reading</th>\n",
       "    </tr>\n",
       "  </thead>\n",
       "  <tbody>\n",
       "    <tr>\n",
       "      <th>0</th>\n",
       "      <td>302</td>\n",
       "    </tr>\n",
       "  </tbody>\n",
       "</table>\n",
       "</div>"
      ],
      "text/plain": [
       "   lowest_reading\n",
       "0             302"
      ]
     },
     "metadata": {},
     "output_type": "display_data"
    }
   ],
   "source": [
    "# Find lowest average_reading\n",
    "querry = (''' \n",
    "SELECT MIN(average_reading) AS lowest_reading\n",
    "FROM schools;\n",
    "''')\n",
    "conn.commit()\n",
    "\n",
    "d = pandas.read_sql_query(querry,conn)\n",
    "display(type(d))\n",
    "display(pandas.DataFrame.head(d))"
   ]
  },
  {
   "cell_type": "markdown",
   "id": "ba82db06",
   "metadata": {},
   "source": [
    "## School with highest writting score\n",
    "The lowest average score for reading across schools in New York City is less than 40% of the total available points!"
   ]
  },
  {
   "cell_type": "code",
   "execution_count": 34,
   "id": "dacd210c",
   "metadata": {},
   "outputs": [
    {
     "data": {
      "text/plain": [
       "pandas.core.frame.DataFrame"
      ]
     },
     "metadata": {},
     "output_type": "display_data"
    },
    {
     "data": {
      "text/html": [
       "<div>\n",
       "<style scoped>\n",
       "    .dataframe tbody tr th:only-of-type {\n",
       "        vertical-align: middle;\n",
       "    }\n",
       "\n",
       "    .dataframe tbody tr th {\n",
       "        vertical-align: top;\n",
       "    }\n",
       "\n",
       "    .dataframe thead th {\n",
       "        text-align: right;\n",
       "    }\n",
       "</style>\n",
       "<table border=\"1\" class=\"dataframe\">\n",
       "  <thead>\n",
       "    <tr style=\"text-align: right;\">\n",
       "      <th></th>\n",
       "      <th>school_name</th>\n",
       "      <th>max_writing</th>\n",
       "    </tr>\n",
       "  </thead>\n",
       "  <tbody>\n",
       "    <tr>\n",
       "      <th>0</th>\n",
       "      <td>Stuyvesant High School</td>\n",
       "      <td>693</td>\n",
       "    </tr>\n",
       "  </tbody>\n",
       "</table>\n",
       "</div>"
      ],
      "text/plain": [
       "              school_name  max_writing\n",
       "0  Stuyvesant High School          693"
      ]
     },
     "metadata": {},
     "output_type": "display_data"
    }
   ],
   "source": [
    "querry = (''' \n",
    "SELECT \n",
    "    school_name,\n",
    "    MAX(average_writing) AS max_writing\n",
    "FROM schools\n",
    "GROUP BY school_name\n",
    "ORDER BY max_writing DESC\n",
    "LIMIT 1;\n",
    "''')\n",
    "conn.commit()\n",
    "\n",
    "d = pandas.read_sql_query(querry,conn)\n",
    "display(type(d))\n",
    "display(pandas.DataFrame.head(d))"
   ]
  },
  {
   "cell_type": "markdown",
   "id": "a57f03db",
   "metadata": {},
   "source": [
    "## Top 10 schools\n",
    "\n",
    "The same school that got the top writing score also have highest math score, Stuyvesant High School. Stuyvesant is widely known as a perennial top school in New York.\n",
    "\n",
    "Other schools that also have the top performance as Stuyvesant. Scores across reading, writing, and math."
   ]
  },
  {
   "cell_type": "code",
   "execution_count": 35,
   "id": "52123957",
   "metadata": {},
   "outputs": [
    {
     "data": {
      "text/plain": [
       "pandas.core.frame.DataFrame"
      ]
     },
     "metadata": {},
     "output_type": "display_data"
    },
    {
     "data": {
      "text/html": [
       "<div>\n",
       "<style scoped>\n",
       "    .dataframe tbody tr th:only-of-type {\n",
       "        vertical-align: middle;\n",
       "    }\n",
       "\n",
       "    .dataframe tbody tr th {\n",
       "        vertical-align: top;\n",
       "    }\n",
       "\n",
       "    .dataframe thead th {\n",
       "        text-align: right;\n",
       "    }\n",
       "</style>\n",
       "<table border=\"1\" class=\"dataframe\">\n",
       "  <thead>\n",
       "    <tr style=\"text-align: right;\">\n",
       "      <th></th>\n",
       "      <th>school_name</th>\n",
       "      <th>average_sat</th>\n",
       "    </tr>\n",
       "  </thead>\n",
       "  <tbody>\n",
       "    <tr>\n",
       "      <th>0</th>\n",
       "      <td>Stuyvesant High School</td>\n",
       "      <td>2144</td>\n",
       "    </tr>\n",
       "    <tr>\n",
       "      <th>1</th>\n",
       "      <td>Staten Island Technical High School</td>\n",
       "      <td>2041</td>\n",
       "    </tr>\n",
       "    <tr>\n",
       "      <th>2</th>\n",
       "      <td>Bronx High School of Science</td>\n",
       "      <td>2041</td>\n",
       "    </tr>\n",
       "    <tr>\n",
       "      <th>3</th>\n",
       "      <td>High School of American Studies at Lehman College</td>\n",
       "      <td>2013</td>\n",
       "    </tr>\n",
       "    <tr>\n",
       "      <th>4</th>\n",
       "      <td>Townsend Harris High School</td>\n",
       "      <td>1981</td>\n",
       "    </tr>\n",
       "  </tbody>\n",
       "</table>\n",
       "</div>"
      ],
      "text/plain": [
       "                                         school_name  average_sat\n",
       "0                             Stuyvesant High School         2144\n",
       "1                Staten Island Technical High School         2041\n",
       "2                       Bronx High School of Science         2041\n",
       "3  High School of American Studies at Lehman College         2013\n",
       "4                        Townsend Harris High School         1981"
      ]
     },
     "metadata": {},
     "output_type": "display_data"
    }
   ],
   "source": [
    "querry = (''' \n",
    "SELECT\n",
    "    school_name,\n",
    "    (average_math + average_reading + average_writing) AS average_sat\n",
    "FROM schools\n",
    "GROUP BY school_name\n",
    "ORDER BY average_sat DESC\n",
    "LIMIT 10;\n",
    "''')\n",
    "conn.commit()\n",
    "\n",
    "d = pandas.read_sql_query(querry,conn)\n",
    "display(type(d))\n",
    "display(pandas.DataFrame.head(d))"
   ]
  },
  {
   "cell_type": "markdown",
   "id": "6b61abe1",
   "metadata": {},
   "source": [
    "## Ranking boroughs\n",
    "There are four schools with average SAT scores of over 2000! Below is the performance by New York City borough.\n",
    "\n",
    "Number of schools and the average SAT score per borough!"
   ]
  },
  {
   "cell_type": "code",
   "execution_count": 36,
   "id": "b1c9a087",
   "metadata": {},
   "outputs": [
    {
     "data": {
      "text/plain": [
       "pandas.core.frame.DataFrame"
      ]
     },
     "metadata": {},
     "output_type": "display_data"
    },
    {
     "data": {
      "text/html": [
       "<div>\n",
       "<style scoped>\n",
       "    .dataframe tbody tr th:only-of-type {\n",
       "        vertical-align: middle;\n",
       "    }\n",
       "\n",
       "    .dataframe tbody tr th {\n",
       "        vertical-align: top;\n",
       "    }\n",
       "\n",
       "    .dataframe thead th {\n",
       "        text-align: right;\n",
       "    }\n",
       "</style>\n",
       "<table border=\"1\" class=\"dataframe\">\n",
       "  <thead>\n",
       "    <tr style=\"text-align: right;\">\n",
       "      <th></th>\n",
       "      <th>borough</th>\n",
       "      <th>num_schools</th>\n",
       "      <th>average_borough_sat</th>\n",
       "    </tr>\n",
       "  </thead>\n",
       "  <tbody>\n",
       "    <tr>\n",
       "      <th>0</th>\n",
       "      <td>Staten Island</td>\n",
       "      <td>10</td>\n",
       "      <td>1439</td>\n",
       "    </tr>\n",
       "    <tr>\n",
       "      <th>1</th>\n",
       "      <td>Queens</td>\n",
       "      <td>69</td>\n",
       "      <td>1345</td>\n",
       "    </tr>\n",
       "    <tr>\n",
       "      <th>2</th>\n",
       "      <td>Manhattan</td>\n",
       "      <td>89</td>\n",
       "      <td>1340</td>\n",
       "    </tr>\n",
       "    <tr>\n",
       "      <th>3</th>\n",
       "      <td>Brooklyn</td>\n",
       "      <td>109</td>\n",
       "      <td>1230</td>\n",
       "    </tr>\n",
       "    <tr>\n",
       "      <th>4</th>\n",
       "      <td>Bronx</td>\n",
       "      <td>98</td>\n",
       "      <td>1202</td>\n",
       "    </tr>\n",
       "  </tbody>\n",
       "</table>\n",
       "</div>"
      ],
      "text/plain": [
       "         borough  num_schools  average_borough_sat\n",
       "0  Staten Island           10                 1439\n",
       "1         Queens           69                 1345\n",
       "2      Manhattan           89                 1340\n",
       "3       Brooklyn          109                 1230\n",
       "4          Bronx           98                 1202"
      ]
     },
     "metadata": {},
     "output_type": "display_data"
    }
   ],
   "source": [
    "querry = (''' \n",
    "SELECT\n",
    "    borough,\n",
    "    COUNT(*) AS num_schools,\n",
    "    (SUM(average_math) + SUM(average_reading) + SUM(average_writing)) / COUNT(*) AS average_borough_sat\n",
    "FROM schools\n",
    "GROUP BY borough\n",
    "ORDER BY average_borough_sat DESC;\n",
    "''')\n",
    "conn.commit()\n",
    "\n",
    "d = pandas.read_sql_query(querry,conn)\n",
    "display(type(d))\n",
    "display(pandas.DataFrame.head(d))"
   ]
  },
  {
   "cell_type": "markdown",
   "id": "22afd133",
   "metadata": {},
   "source": [
    "It appears that schools in Staten Island, on average, produce higher scores across all three categories. However, there are only 10 schools in Staten Island, compared to an average of 91 schools in the other four boroughs and 109 schools in Brooklyn.\n",
    "\n",
    "To find out the students' performance in Brooklyn, this query will show the top five schools based on average math score"
   ]
  },
  {
   "cell_type": "code",
   "execution_count": 38,
   "id": "2a1b6e7c",
   "metadata": {},
   "outputs": [
    {
     "data": {
      "text/plain": [
       "pandas.core.frame.DataFrame"
      ]
     },
     "metadata": {},
     "output_type": "display_data"
    },
    {
     "data": {
      "text/html": [
       "<div>\n",
       "<style scoped>\n",
       "    .dataframe tbody tr th:only-of-type {\n",
       "        vertical-align: middle;\n",
       "    }\n",
       "\n",
       "    .dataframe tbody tr th {\n",
       "        vertical-align: top;\n",
       "    }\n",
       "\n",
       "    .dataframe thead th {\n",
       "        text-align: right;\n",
       "    }\n",
       "</style>\n",
       "<table border=\"1\" class=\"dataframe\">\n",
       "  <thead>\n",
       "    <tr style=\"text-align: right;\">\n",
       "      <th></th>\n",
       "      <th>school_name</th>\n",
       "      <th>average_math</th>\n",
       "    </tr>\n",
       "  </thead>\n",
       "  <tbody>\n",
       "    <tr>\n",
       "      <th>0</th>\n",
       "      <td>Brooklyn Technical High School</td>\n",
       "      <td>682</td>\n",
       "    </tr>\n",
       "    <tr>\n",
       "      <th>1</th>\n",
       "      <td>Brooklyn Latin School</td>\n",
       "      <td>625</td>\n",
       "    </tr>\n",
       "    <tr>\n",
       "      <th>2</th>\n",
       "      <td>Leon M. Goldstein High School for the Sciences</td>\n",
       "      <td>563</td>\n",
       "    </tr>\n",
       "    <tr>\n",
       "      <th>3</th>\n",
       "      <td>Millennium Brooklyn High School</td>\n",
       "      <td>553</td>\n",
       "    </tr>\n",
       "    <tr>\n",
       "      <th>4</th>\n",
       "      <td>Midwood High School</td>\n",
       "      <td>550</td>\n",
       "    </tr>\n",
       "  </tbody>\n",
       "</table>\n",
       "</div>"
      ],
      "text/plain": [
       "                                      school_name  average_math\n",
       "0                  Brooklyn Technical High School           682\n",
       "1                           Brooklyn Latin School           625\n",
       "2  Leon M. Goldstein High School for the Sciences           563\n",
       "3                 Millennium Brooklyn High School           553\n",
       "4                             Midwood High School           550"
      ]
     },
     "metadata": {},
     "output_type": "display_data"
    }
   ],
   "source": [
    "querry = (''' \n",
    "SELECT\n",
    "    school_name,\n",
    "    average_math\n",
    "FROM schools\n",
    "WHERE borough = 'Brooklyn'\n",
    "GROUP BY school_name\n",
    "ORDER BY average_math DESC\n",
    "LIMIT 5;\n",
    "''')\n",
    "conn.commit()\n",
    "\n",
    "d = pandas.read_sql_query(querry,conn)\n",
    "display(type(d))\n",
    "display(pandas.DataFrame.head(d))"
   ]
  },
  {
   "cell_type": "code",
   "execution_count": null,
   "id": "e5ddd9cf",
   "metadata": {},
   "outputs": [],
   "source": []
  }
 ],
 "metadata": {
  "kernelspec": {
   "display_name": "Python 3 (ipykernel)",
   "language": "python",
   "name": "python3"
  },
  "language_info": {
   "codemirror_mode": {
    "name": "ipython",
    "version": 3
   },
   "file_extension": ".py",
   "mimetype": "text/x-python",
   "name": "python",
   "nbconvert_exporter": "python",
   "pygments_lexer": "ipython3",
   "version": "3.11.5"
  }
 },
 "nbformat": 4,
 "nbformat_minor": 5
}
